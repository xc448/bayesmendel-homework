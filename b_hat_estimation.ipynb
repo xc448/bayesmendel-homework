{
 "cells": [
  {
   "cell_type": "code",
   "execution_count": 1,
   "id": "6d7514e7",
   "metadata": {},
   "outputs": [],
   "source": [
    "from math import pi\n",
    "from scipy.optimize import minimize # the optimization function to be used \n",
    "import sympy as sp # symbolize a variable \n",
    "import pandas as pd \n",
    "import pyreadr # read rds file\n",
    "import numpy as np"
   ]
  },
  {
   "cell_type": "code",
   "execution_count": 2,
   "id": "e90ffe21",
   "metadata": {},
   "outputs": [],
   "source": [
    "df = pyreadr.read_r('./data/samples.rds')[None] # convert rds file to a pandas dataframe"
   ]
  },
  {
   "cell_type": "code",
   "execution_count": 3,
   "id": "766d5b8d",
   "metadata": {},
   "outputs": [],
   "source": [
    "b = sp.symbols('b') # symbolize b\n",
    "\n",
    "def loglikefunc(b): # define negative log-likelihood function\n",
    "    \"\"\"\n",
    "    Return the negative log-likelihood function with a parameter b to estimate given data in the sample\n",
    "    \"\"\"\n",
    "    l = 0\n",
    "    for x in df[None]:\n",
    "        l += np.log(1/(pi*(x*(b-x))**0.5))\n",
    "    return -l"
   ]
  },
  {
   "cell_type": "code",
   "execution_count": 4,
   "id": "065ad3bd",
   "metadata": {
    "scrolled": true
   },
   "outputs": [
    {
     "name": "stderr",
     "output_type": "stream",
     "text": [
      "/var/folders/8w/4jq7lrjd1v7_9v1nwvh20w3r0000gn/T/ipykernel_74364/677611425.py:9: RuntimeWarning: invalid value encountered in sqrt\n",
      "  l += np.log(1/(pi*(x*(b-x))**0.5))\n"
     ]
    },
    {
     "name": "stdout",
     "output_type": "stream",
     "text": [
      "The estimated b_hat value is 1225.0\n"
     ]
    }
   ],
   "source": [
    "initial_guess = list(range(1, 50)) # gives initial guesses to parameter b. Here int values from 1-50 are used.\n",
    "b_hat = 0 # setting initial b_hat value to 0\n",
    "for i in initial_guess:   \n",
    "    b_hat += minimize(loglikefunc, i, method='BFGS')[\"x\"] # sum up the estimated b value for each initial guess, here\n",
    "    # method BFGS is used because this algorithm is more general to different non-linar functions.\n",
    "    \n",
    "b_hat = np.mean(b_hat) # take the mean value for all the b values estimated \n",
    "print(\"The estimated b_hat value is \" + repr(b_hat))"
   ]
  }
 ],
 "metadata": {
  "kernelspec": {
   "display_name": "Python 3 (ipykernel)",
   "language": "python",
   "name": "python3"
  },
  "language_info": {
   "codemirror_mode": {
    "name": "ipython",
    "version": 3
   },
   "file_extension": ".py",
   "mimetype": "text/x-python",
   "name": "python",
   "nbconvert_exporter": "python",
   "pygments_lexer": "ipython3",
   "version": "3.9.7"
  }
 },
 "nbformat": 4,
 "nbformat_minor": 5
}
